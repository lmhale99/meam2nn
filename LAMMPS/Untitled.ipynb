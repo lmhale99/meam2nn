{
 "cells": [
  {
   "cell_type": "code",
   "execution_count": 3,
   "metadata": {},
   "outputs": [],
   "source": [
    "from pathlib import Path\n",
    "from DataModelDict import DataModelDict as DM\n",
    "\n",
    "import potentials"
   ]
  },
  {
   "cell_type": "code",
   "execution_count": 8,
   "metadata": {},
   "outputs": [],
   "source": [
    "import numpy as np\n",
    "from copy import deepcopy"
   ]
  },
  {
   "cell_type": "code",
   "execution_count": 4,
   "metadata": {},
   "outputs": [],
   "source": [
    "potdb = potentials.Database(remote=False)"
   ]
  },
  {
   "cell_type": "code",
   "execution_count": 11,
   "metadata": {},
   "outputs": [],
   "source": [
    "potdb.load_potentials()"
   ]
  },
  {
   "cell_type": "code",
   "execution_count": 12,
   "metadata": {},
   "outputs": [
    {
     "name": "stdout",
     "output_type": "stream",
     "text": [
      "The meam files were generated from the word file which was obtained from http://cmse.postech.ac.kr/home_2nnmeam.\n",
      "\n",
      "The meam files were generated using the kissmd_to_lammps.xslt found at http://cmse.postech.ac.kr/home_2nnmeam.\n",
      "\n",
      "These files are based on files obtained from http://cmse.postech.ac.kr/home_2nnmeam.\n",
      "\n",
      "These files were contributed by Laalitha Liyanage (Central Michigan Univ., Univ. of North Texas) on 14 Apr. 2014.\n",
      "\n",
      "These files were contributed by Sasan Nouranian (Center for Advanced Vehicular Systems, Mississippi State Univ.) on 1 Jul. 2014. An example of energy minimization for an isobutane molecule using the MEAM potential in LAMMPS is also included (Isobutane.in and Isobutane.dat).\n",
      "\n",
      "These files were provided by Abu Shama M Miraz (Louisiana Tech) on Sept. 18, 2020 and posted with his permission.\n",
      "\n",
      "These files were sent by Dr. Ashlie Martini (Univ. California Merced) and approved for distribution on 6 Jul. 2013. The file AgTaO3_40atoms.dat contains atomic coordinates for the 40-atom cell described in the paper. A sample LAMMPS input script to calculate the cohesive energy of that configuration is in in.AgTaO3. This potential was tested on the following versions of LAMMPS: 5Mar12, 12Apr12, 19May12, 4Jul12, 28Oct12, 21Feb13, 5Jun13, 13Jun13, 17Jun13.\n",
      "\n",
      "These files were sent by M.I. Pascuet (CONICET) on 22 Apr. 2016 and posted with her permission.\n",
      "\n",
      "These files were sent by M.I. Pascuet (CONICET) on 25 Apr. 2016 and posted with her permission.\n",
      "\n",
      "These files were sent by M.I. Pascuet (CONICET) on 4 May 2016 and posted with her permission.\n",
      "\n",
      "These files were sent by S. A. Etesami (University of Memphis) on 23 April 2018 and posted with his permission. This version is compatible with LAMMPS.\n",
      "\n",
      "These files were sent by Won-Seok Ko (School of Materials Science and Engineering, University of Ulsan) on 5 Nov. 2018 and posted with his permission.\n",
      "\n",
      "These files were sent by Won-Seok Ko (School of Materials Science and Engineering, University of Ulsan) on 9 Feb. 2018 and posted with his permission.\n",
      "\n",
      "These files were sent by Won-Seok Ko (University of Ulsan, South Korea) on 24 July 2016 and posted with his permission.\n",
      "\n",
      "These files were submitted by Doyl Dickel on May 17, 2018.\n",
      "\n",
      "These potential files were obtained from http://cmse.postech.ac.kr/home_2nnmeam, accessed Nov 9, 2020.\n",
      "\n",
      "These potential files were obtained from http://cmse.postech.ac.kr/home_2nnmeam, accessed Nov 9, 2020. For consistency, the \"library.meam_alloy\" file for the interaction was renamed here to \"Mo.meam\".\n",
      "\n",
      "These potential files were obtained from http://cmse.postech.ac.kr/home_2nnmeam, accessed Nov 9, 2020. For consistency, the \"library.meam_alloy\" file for the interaction was renamed here to \"NiH.meam\".\n",
      "\n",
      "These potential files were obtained from http://cmse.postech.ac.kr/home_2nnmeam, accessed Nov 9, 2020. For consistency, the \"library.meam_alloy\" file for the interaction was renamed here to \"VH.meam\".\n",
      "\n",
      "This file was provided by Imran Aslam (Mississippi State) on Feb 28, 2020 and posted with his permission.\n",
      "\n",
      "This file was sent by Bohumir Jelinek (Mississippi State University) and posted on 3 July 2012. He noted, \"This is a MEAM potential for Al, Si, Mg, Cu, Fe alloys. It works with LAMMPS, version 19 Jul 2011 or later, when compiled with MEAM support. Most of the MEAM potential results presented in the accompanying paper can be reproduced with Atomistic Simulation Environment (ASE) and testing routines are provided in ase-atomistic-potential-tests-rev60.tar.gz\"\n",
      "\n",
      "This file was sent by Prof. Mohsen Zaeem (Missouri S&T) on 12 April 2017 and posted on 5 May 2017.  Update 5 Sept 2019: The 31 July 2018 update of the repository inadvertantly replaced the parameter files with those from the 2018--Etesami-S-A--Fe--LAMMPS--ipr1 potential.  The links below now point to the correct files.\n",
      "\n",
      "This file was sent by Prof. Mohsen Zaeem (Missouri S&T) on 12 April 2017 and posted on 5 May 2017.  Update 5 Sept 2019: The 31 July 2018 update of the repository inadvertantly replaced the parameter files with those from the 2018--Etesami-S-A--Ni--LAMMPS--ipr1 potential.  The links below now point to the correct files.\n",
      "\n",
      "This file was sent by S. A. Etesami (University of Memphis) on 17 September 2018 and posted with his permission. Update 2018-09-28: files renamed at the request of the authors. Old names were library.PbSn.meam and PbSn.meam\n",
      "\n",
      "This file was submitted by Sebasti&#225;n ECHEVERRI RESTREPO (SKF Engineering & Research Centre) on 31 August 2015 and approved for distribution by Byeong-Joo Lee (POSTECH). This version is compatible with LAMMPS. Implementation information can be found in FeTiC_Implementation.pdf.\n",
      "\n"
     ]
    }
   ],
   "source": [
    "notes = []\n",
    "for potential in potdb.potentials:\n",
    "    for imp in potential.implementations:\n",
    "        if imp.type == 'LAMMPS pair_style meam':\n",
    "            notes.append(imp.notes)\n",
    "for note in np.unique(notes):\n",
    "    print(note)\n",
    "    print()"
   ]
  },
  {
   "cell_type": "code",
   "execution_count": 10,
   "metadata": {},
   "outputs": [
    {
     "name": "stdout",
     "output_type": "stream",
     "text": [
      "84 files changed\n"
     ]
    }
   ],
   "source": [
    "old = ['These files were obtained from http://cmse.postech.ac.kr/home_2nnmeam.',\n",
    "       'These potential files were obtained from http://cmse.postech.ac.kr/home_2nnmeam, accessed April 5, 2019.',\n",
    "       'These potential files were obtained from http://cmse.postech.ac.kr/home_2nnmeam.']\n",
    "new = 'These potential files were obtained from http://cmse.postech.ac.kr/home_2nnmeam, accessed Nov 9, 2020.'\n",
    "count = 0\n",
    "for jsonfile in Path('C:/Users/lmh1/Documents/library/Potential').glob('*.json'):\n",
    "    with open(jsonfile, encoding='UTF-8') as f:\n",
    "        content = f.read()\n",
    "    \n",
    "    ncontent = deepcopy(content)\n",
    "    for o in old:\n",
    "        ncontent = ncontent.replace(o, new)\n",
    "    \n",
    "    if content != ncontent:\n",
    "        count += 1\n",
    "        with open(jsonfile, 'w', encoding='UTF-8') as f:\n",
    "            f.write(ncontent)\n",
    "print(count, 'files changed')"
   ]
  },
  {
   "cell_type": "code",
   "execution_count": null,
   "metadata": {},
   "outputs": [],
   "source": []
  },
  {
   "cell_type": "code",
   "execution_count": null,
   "metadata": {},
   "outputs": [],
   "source": [
    "These potential files were obtained from http://cmse.postech.ac.kr/home_2nnmeam, accessed April 5, 2019.\n",
    "\n",
    "These potential files were obtained from http://cmse.postech.ac.kr/home_2nnmeam."
   ]
  }
 ],
 "metadata": {
  "kernelspec": {
   "display_name": "Python 3",
   "language": "python",
   "name": "python3"
  },
  "language_info": {
   "codemirror_mode": {
    "name": "ipython",
    "version": 3
   },
   "file_extension": ".py",
   "mimetype": "text/x-python",
   "name": "python",
   "nbconvert_exporter": "python",
   "pygments_lexer": "ipython3",
   "version": "3.7.4"
  }
 },
 "nbformat": 4,
 "nbformat_minor": 2
}
