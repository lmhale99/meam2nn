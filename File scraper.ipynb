{
 "cells": [
  {
   "cell_type": "code",
   "execution_count": 4,
   "metadata": {},
   "outputs": [],
   "source": [
    "import requests\n",
    "from pathlib import Path\n",
    "from lxml import etree"
   ]
  },
  {
   "cell_type": "code",
   "execution_count": 104,
   "metadata": {},
   "outputs": [],
   "source": [
    "rootdir = Path('C:/Users/lmh1/Documents/Python-packages/meam2nn/cmse_postech_ac_kr')"
   ]
  },
  {
   "cell_type": "code",
   "execution_count": 106,
   "metadata": {
    "scrolled": false
   },
   "outputs": [
    {
     "name": "stdout",
     "output_type": "stream",
     "text": [
      "added C:\\Users\\lmh1\\Documents\\Python-packages\\meam2nn\\cmse_postech_ac_kr\\58 How to use 2NNMEAM+Qeq potential in LAMMPS\\Li-Co-O_case.zip\n",
      "added C:\\Users\\lmh1\\Documents\\Python-packages\\meam2nn\\cmse_postech_ac_kr\\55 LAMMPS Potential parameter file for Mo unary system (modified)\\library.meam_alloy\n",
      "updated C:\\Users\\lmh1\\Documents\\Python-packages\\meam2nn\\cmse_postech_ac_kr\\52 LAMMPS Potential parameters file for Si-C systems\\SiC.meam\n",
      "added C:\\Users\\lmh1\\Documents\\Python-packages\\meam2nn\\cmse_postech_ac_kr\\51 LAMMPS Potential parameters file for Al-V, Al-V-H, Ni-V, Ni-V-H systems\\AlV.zip\n",
      "added C:\\Users\\lmh1\\Documents\\Python-packages\\meam2nn\\cmse_postech_ac_kr\\51 LAMMPS Potential parameters file for Al-V, Al-V-H, Ni-V, Ni-V-H systems\\NiV.zip\n",
      "added C:\\Users\\lmh1\\Documents\\Python-packages\\meam2nn\\cmse_postech_ac_kr\\51 LAMMPS Potential parameters file for Al-V, Al-V-H, Ni-V, Ni-V-H systems\\AlVH.zip\n",
      "added C:\\Users\\lmh1\\Documents\\Python-packages\\meam2nn\\cmse_postech_ac_kr\\51 LAMMPS Potential parameters file for Al-V, Al-V-H, Ni-V, Ni-V-H systems\\VNiH.zip\n",
      "added C:\\Users\\lmh1\\Documents\\Python-packages\\meam2nn\\cmse_postech_ac_kr\\50 LAMMPS Potential parameters file for Ni-W systems\\NiW.zip\n",
      "added C:\\Users\\lmh1\\Documents\\Python-packages\\meam2nn\\cmse_postech_ac_kr\\49 LAMMPS Potential parameters file for Co-Ti, Co-V systems\\CoTi.zip\n",
      "added C:\\Users\\lmh1\\Documents\\Python-packages\\meam2nn\\cmse_postech_ac_kr\\49 LAMMPS Potential parameters file for Co-Ti, Co-V systems\\CoV.zip\n",
      "updated C:\\Users\\lmh1\\Documents\\Python-packages\\meam2nn\\cmse_postech_ac_kr\\45 Potential parameter files for Zr-Ag-Cu system\\ZrAgCu.meam\n",
      "updated C:\\Users\\lmh1\\Documents\\Python-packages\\meam2nn\\cmse_postech_ac_kr\\43 Potential parameter files for V-H binary system\\VH.meam\n",
      "added C:\\Users\\lmh1\\Documents\\Python-packages\\meam2nn\\cmse_postech_ac_kr\\41 Potential parameter files for pure Co and Co-Al binary system\\library.meam_alloy\n",
      "added C:\\Users\\lmh1\\Documents\\Python-packages\\meam2nn\\cmse_postech_ac_kr\\29 Potential parameter files for Fe, Cr, Mo, W, V, Nb, Ta, Cu, Ag, Au, Ni, Pd, Pt, Al, Pb, Ti, Zr, C, Si, Ge, Y, and, In unary systems\\Y.meam\n",
      "added C:\\Users\\lmh1\\Documents\\Python-packages\\meam2nn\\cmse_postech_ac_kr\\26 Pd-M (M = Al, Co, Cu, Fe, Mo, Ni, Ti)  Potential Parameters\\LAMMPS parameters-Supplement.docx\n",
      "added C:\\Users\\lmh1\\Documents\\Python-packages\\meam2nn\\cmse_postech_ac_kr\\19 Potential parameter files for Fe-Nb-C ternary system\\NbFeC_lammps_meam.zip\n",
      "added C:\\Users\\lmh1\\Documents\\Python-packages\\meam2nn\\cmse_postech_ac_kr\\18 Pt-M (M=Al, Co, Cu, Mo, Ni, Ti, V) potential parameters\\Cu-Pt.meam\n",
      "added C:\\Users\\lmh1\\Documents\\Python-packages\\meam2nn\\cmse_postech_ac_kr\\18 Pt-M (M=Al, Co, Cu, Mo, Ni, Ti, V) potential parameters\\library.meam\n",
      "added C:\\Users\\lmh1\\Documents\\Python-packages\\meam2nn\\cmse_postech_ac_kr\\18 Pt-M (M=Al, Co, Cu, Mo, Ni, Ti, V) potential parameters\\Ni-Pt.meam\n",
      "added C:\\Users\\lmh1\\Documents\\Python-packages\\meam2nn\\cmse_postech_ac_kr\\18 Pt-M (M=Al, Co, Cu, Mo, Ni, Ti, V) potential parameters\\Pt-Al.meam\n",
      "added C:\\Users\\lmh1\\Documents\\Python-packages\\meam2nn\\cmse_postech_ac_kr\\18 Pt-M (M=Al, Co, Cu, Mo, Ni, Ti, V) potential parameters\\Pt-Co.meam\n",
      "added C:\\Users\\lmh1\\Documents\\Python-packages\\meam2nn\\cmse_postech_ac_kr\\18 Pt-M (M=Al, Co, Cu, Mo, Ni, Ti, V) potential parameters\\Pt-Mo.meam\n",
      "added C:\\Users\\lmh1\\Documents\\Python-packages\\meam2nn\\cmse_postech_ac_kr\\18 Pt-M (M=Al, Co, Cu, Mo, Ni, Ti, V) potential parameters\\Pt-Ti.meam\n",
      "added C:\\Users\\lmh1\\Documents\\Python-packages\\meam2nn\\cmse_postech_ac_kr\\18 Pt-M (M=Al, Co, Cu, Mo, Ni, Ti, V) potential parameters\\Pt-V.meam\n",
      "added C:\\Users\\lmh1\\Documents\\Python-packages\\meam2nn\\cmse_postech_ac_kr\\11 LAMMPS example files for Fe-Mn system\\lammps_2nnmeam.tar\n"
     ]
    }
   ],
   "source": [
    "# Loop over all index pages\n",
    "page = 1\n",
    "while page < 10:\n",
    "    url1 = f'https://cmse.postech.ac.kr/index.php?mid=lammps&page={page}'\n",
    "    page += 1\n",
    "    r1 = requests.get(url1)\n",
    "    html1 = etree.HTML(r1.text)\n",
    "    \n",
    "    tablerows = html1.xpath('body/div/div/table/tbody/tr')\n",
    "    if len(tablerows) == 0:\n",
    "        break\n",
    "    \n",
    "    # Loop over all listings\n",
    "    for row in tablerows:\n",
    "        columns = row.xpath('td')\n",
    "        number = columns[0].text.strip()\n",
    "        a = columns[1].xpath('a')[0]\n",
    "\n",
    "        title = a.text.strip()\n",
    "        if title == '':\n",
    "            title = a.xpath('span')[0].text.strip()\n",
    "\n",
    "        directory = f'{number} {title}'\n",
    "        \n",
    "        fdir = Path(rootdir, directory)\n",
    "        if not fdir.is_dir():\n",
    "            fdir.mkdir(parents=True)\n",
    "        \n",
    "        url2 = a.get('href')\n",
    "        \n",
    "        r2 = requests.get(url2)\n",
    "        html2 = etree.HTML(r2.text)\n",
    "\n",
    "        atags = html2.xpath('body/div/div/div/table/tr/td/ul/li/a')\n",
    "\n",
    "        # Loop over all attachments\n",
    "        for atag in atags:\n",
    "            \n",
    "            # Download file\n",
    "            url3 = atag.get('href')\n",
    "            r3 = requests.get(url3)\n",
    "            raw = r3.content\n",
    "            \n",
    "            fname = Path(fdir, atag.text)\n",
    "            if fname.is_file():\n",
    "                \n",
    "                # Check if content is different\n",
    "                with open(fname, 'rb') as f:\n",
    "                    old = f.read() \n",
    "                if old != raw:\n",
    "                    with open(fname, 'wb') as f:\n",
    "                        f.write(raw)\n",
    "                    print('updated', fname)\n",
    "            \n",
    "            else:\n",
    "                # Add new entries\n",
    "                with open(fname, 'wb') as f:\n",
    "                    f.write(raw)\n",
    "                print('added', fname) "
   ]
  }
 ],
 "metadata": {
  "kernelspec": {
   "display_name": "Python 3",
   "language": "python",
   "name": "python3"
  },
  "language_info": {
   "codemirror_mode": {
    "name": "ipython",
    "version": 3
   },
   "file_extension": ".py",
   "mimetype": "text/x-python",
   "name": "python",
   "nbconvert_exporter": "python",
   "pygments_lexer": "ipython3",
   "version": "3.7.4"
  }
 },
 "nbformat": 4,
 "nbformat_minor": 2
}
